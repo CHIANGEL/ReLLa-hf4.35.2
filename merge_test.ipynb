{
 "cells": [
  {
   "cell_type": "code",
   "execution_count": 9,
   "metadata": {},
   "outputs": [],
   "source": [
    "import numpy as np\n",
    "from sklearn.metrics import roc_auc_score, log_loss, accuracy_score\n",
    "import os"
   ]
  },
  {
   "cell_type": "code",
   "execution_count": 10,
   "metadata": {},
   "outputs": [
    {
     "name": "stdout",
     "output_type": "stream",
     "text": [
      "['0:20000', '60000:80000', '20000:40000', '40000:60000', '80000:-1']\n"
     ]
    }
   ],
   "source": [
    "data_dir = \"path to your preds/labels.npy\"\n",
    "\n",
    "test_ranges = [x.strip().split(\"_\")[1].split(\".\")[0] for x in os.listdir(data_dir) if \"labels\" in x and \"npy\" in x]\n",
    "print(test_ranges)\n",
    "\n",
    "if \"all\" in test_ranges:\n",
    "    assert len(test_ranges) == 1\n",
    "\n",
    "label_list, pred_list = [], []\n",
    "# for test_range in [\"0:30000\", \"30000:60000\", \"60000:90000\", \"90000:-1\"]:\n",
    "for test_range in test_ranges:\n",
    "    labels = np.load(os.path.join(data_dir, f\"labels_{test_range}.npy\"))\n",
    "    preds = np.load(os.path.join(data_dir, f\"preds_{test_range}.npy\"))\n",
    "    label_list.append(labels)\n",
    "    pred_list.append(preds)"
   ]
  },
  {
   "cell_type": "code",
   "execution_count": null,
   "metadata": {},
   "outputs": [],
   "source": []
  },
  {
   "cell_type": "code",
   "execution_count": 11,
   "metadata": {},
   "outputs": [],
   "source": [
    "labels = np.concatenate(label_list, axis=0)\n",
    "preds = np.concatenate(pred_list, axis=0)"
   ]
  },
  {
   "cell_type": "code",
   "execution_count": 12,
   "metadata": {},
   "outputs": [
    {
     "data": {
      "text/plain": [
       "0.8064323328406453"
      ]
     },
     "execution_count": 12,
     "metadata": {},
     "output_type": "execute_result"
    }
   ],
   "source": [
    "roc_auc_score(labels, preds)"
   ]
  },
  {
   "cell_type": "code",
   "execution_count": 13,
   "metadata": {},
   "outputs": [
    {
     "data": {
      "text/plain": [
       "0.5473419024935318"
      ]
     },
     "execution_count": 13,
     "metadata": {},
     "output_type": "execute_result"
    }
   ],
   "source": [
    "log_loss(labels, preds)"
   ]
  },
  {
   "cell_type": "code",
   "execution_count": 14,
   "metadata": {},
   "outputs": [
    {
     "data": {
      "text/plain": [
       "0.7183872497474278"
      ]
     },
     "execution_count": 14,
     "metadata": {},
     "output_type": "execute_result"
    }
   ],
   "source": [
    "accuracy_score(labels, preds > 0.5)"
   ]
  },
  {
   "cell_type": "code",
   "execution_count": null,
   "metadata": {},
   "outputs": [],
   "source": []
  },
  {
   "cell_type": "code",
   "execution_count": null,
   "metadata": {},
   "outputs": [],
   "source": []
  }
 ],
 "metadata": {
  "kernelspec": {
   "display_name": "Python 3",
   "language": "python",
   "name": "python3"
  },
  "language_info": {
   "codemirror_mode": {
    "name": "ipython",
    "version": 3
   },
   "file_extension": ".py",
   "mimetype": "text/x-python",
   "name": "python",
   "nbconvert_exporter": "python",
   "pygments_lexer": "ipython3",
   "version": "3.10.13"
  }
 },
 "nbformat": 4,
 "nbformat_minor": 2
}
